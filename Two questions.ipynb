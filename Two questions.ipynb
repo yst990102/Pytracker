{
 "cells": [
  {
   "cell_type": "markdown",
   "id": "55eb470b",
   "metadata": {},
   "source": [
    "# Question 1"
   ]
  },
  {
   "cell_type": "code",
   "execution_count": 2,
   "id": "4123ee32",
   "metadata": {},
   "outputs": [
    {
     "name": "stdout",
     "output_type": "stream",
     "text": [
      "10929959865963833517562733359968164062500000000000\n",
      "55961394513734827609921194803037\n"
     ]
    }
   ],
   "source": [
    "n = 2**11 * 3**12 * 5**20 * 7**14 * 11**4 * 13**9\n",
    "p = n\n",
    "\n",
    "switch_1 = True\n",
    "switch_2 = False\n",
    "while p % 2 == 0:\n",
    "    p = p // 2\n",
    "    switch_1 = not switch_1\n",
    "if switch_1:\n",
    "    while p % 3 == 0:\n",
    "        p = p // 3\n",
    "else:\n",
    "    while p % 5 == 0:\n",
    "        p = p // 5\n",
    "        switch_2 = not switch_2\n",
    "    if switch_2:\n",
    "        while p % 7 == 0:\n",
    "            p = p // 7\n",
    "            \n",
    "print(n)\n",
    "print(p)"
   ]
  },
  {
   "cell_type": "markdown",
   "id": "80f3b21c",
   "metadata": {},
   "source": [
    "When `n` is equal to `2**11 * 3**12 * 5**20 * 7**14 * 11**4 * 13**9`, `p` is equal to `2**a * 3**b * 5**c * 7**d * 11**e * 13**f` for some `a`, `b`, `c`, `d`, `e` and `f`. What are they?\n",
    "\n",
    "a = ?\n",
    "\n",
    "b = ?\n",
    "\n",
    "c = ?\n",
    "\n",
    "d = ?\n",
    "\n",
    "e = ?\n",
    "\n",
    "f = ?"
   ]
  },
  {
   "cell_type": "markdown",
   "id": "a702ea47",
   "metadata": {},
   "source": [
    "When `n` is equal to `2**16 * 3**12 * 5**20 * 7**14 * 11**4 * 13**9`, `p` is equal to `2**a * 3**b * 5**c * 7**d * 11**e * 13**f` for some `a`, `b`, `c`, `d`, `e` and `f`. What are they?\n",
    "\n",
    "a = ?\n",
    "\n",
    "b = ?\n",
    "\n",
    "c = ?\n",
    "\n",
    "d = ?\n",
    "\n",
    "e = ?\n",
    "\n",
    "f = ?"
   ]
  },
  {
   "cell_type": "markdown",
   "id": "664efbc7",
   "metadata": {},
   "source": [
    "When `n` is equal to `2**15 * 3**12 * 5**17 * 7**14 * 11**4 * 13**9`, `p` is equal to `2**a * 3**b * 5**c * 7**d * 11**e * 13**f` for some `a`, `b`, `c`, `d`, `e` and `f`. What are they?\n",
    "\n",
    "a = ?\n",
    "\n",
    "b = ?\n",
    "\n",
    "c = ?\n",
    "\n",
    "d = ?\n",
    "\n",
    "e = ?\n",
    "\n",
    "f = ?"
   ]
  },
  {
   "cell_type": "markdown",
   "id": "3f75a2fa",
   "metadata": {},
   "source": [
    "# Question 2"
   ]
  },
  {
   "cell_type": "code",
   "execution_count": 1,
   "id": "ffabd323",
   "metadata": {},
   "outputs": [
    {
     "name": "stdout",
     "output_type": "stream",
     "text": [
      "__A__ B CCCC B  B __A__\n"
     ]
    }
   ],
   "source": [
    "i = 0\n",
    "j = 0\n",
    "k = 0\n",
    "\n",
    "while i < 2:\n",
    "    print('__A__', end='')\n",
    "    i = i + 1\n",
    "    while j < 3:\n",
    "        print(' B ', end='')\n",
    "        j = j + 1\n",
    "        while k < 4:\n",
    "            print('C', end='')\n",
    "            k = k + 1\n",
    "print()"
   ]
  },
  {
   "cell_type": "markdown",
   "id": "d3a9e454",
   "metadata": {},
   "source": [
    "Modify the code above so it rather outputs:\n",
    "\n",
    "`__A__ B CCCC B CCCC B CCCC__A__ B CCCC B CCCC B CCCC`"
   ]
  }
 ],
 "metadata": {
  "kernelspec": {
   "display_name": "Python 3.9.7 ('pytracker': conda)",
   "language": "python",
   "name": "python3"
  },
  "language_info": {
   "codemirror_mode": {
    "name": "ipython",
    "version": 3
   },
   "file_extension": ".py",
   "mimetype": "text/x-python",
   "name": "python",
   "nbconvert_exporter": "python",
   "pygments_lexer": "ipython3",
   "version": "3.9.12"
  },
  "vscode": {
   "interpreter": {
    "hash": "32bc3e6c6fc0342b66744f6bffa9e52d1ad89f6fe38b3145bbe65cb74e0c2ecc"
   }
  }
 },
 "nbformat": 4,
 "nbformat_minor": 5
}
